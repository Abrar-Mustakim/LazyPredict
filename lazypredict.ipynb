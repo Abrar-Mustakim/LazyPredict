{
 "cells": [
  {
   "cell_type": "code",
   "execution_count": 5,
   "metadata": {},
   "outputs": [
    {
     "name": "stderr",
     "output_type": "stream",
     "text": [
      " 38%|███▊      | 11/29 [00:02<00:03,  4.92it/s]d:\\Anaconda\\envs\\pytorch\\lib\\site-packages\\sklearn\\semi_supervised\\_label_propagation.py:222: RuntimeWarning: invalid value encountered in divide\n",
      "  probabilities /= normalizer\n",
      "d:\\Anaconda\\envs\\pytorch\\lib\\site-packages\\sklearn\\semi_supervised\\_label_propagation.py:222: RuntimeWarning: invalid value encountered in divide\n",
      "  probabilities /= normalizer\n",
      "100%|██████████| 29/29 [00:05<00:00,  4.99it/s]"
     ]
    },
    {
     "name": "stdout",
     "output_type": "stream",
     "text": [
      "                               Accuracy  ...  Time Taken\n",
      "Model                                    ...            \n",
      "LogisticRegression                 0.99  ...        0.08\n",
      "RandomForestClassifier             0.99  ...        0.70\n",
      "QuadraticDiscriminantAnalysis      0.99  ...        0.06\n",
      "LinearSVC                          0.99  ...        0.03\n",
      "SVC                                0.99  ...        0.05\n",
      "RidgeClassifierCV                  0.99  ...        0.18\n",
      "RidgeClassifier                    0.99  ...        0.10\n",
      "ExtraTreesClassifier               0.99  ...        0.57\n",
      "LabelPropagation                   0.98  ...        0.08\n",
      "LabelSpreading                     0.98  ...        0.06\n",
      "SGDClassifier                      0.98  ...        0.04\n",
      "Perceptron                         0.98  ...        0.06\n",
      "LGBMClassifier                     0.98  ...        0.34\n",
      "KNeighborsClassifier               0.98  ...        0.35\n",
      "DecisionTreeClassifier             0.98  ...        0.05\n",
      "BernoulliNB                        0.98  ...        0.32\n",
      "LinearDiscriminantAnalysis         0.98  ...        0.29\n",
      "CalibratedClassifierCV             0.98  ...        0.17\n",
      "AdaBoostClassifier                 0.97  ...        0.93\n",
      "PassiveAggressiveClassifier        0.97  ...        0.03\n",
      "XGBClassifier                      0.97  ...        0.70\n",
      "BaggingClassifier                  0.97  ...        0.30\n",
      "NearestCentroid                    0.97  ...        0.03\n",
      "NuSVC                              0.97  ...        0.10\n",
      "GaussianNB                         0.97  ...        0.04\n",
      "ExtraTreeClassifier                0.94  ...        0.04\n",
      "DummyClassifier                    0.62  ...        0.03\n",
      "\n",
      "[27 rows x 5 columns]\n"
     ]
    },
    {
     "name": "stderr",
     "output_type": "stream",
     "text": [
      "\n"
     ]
    }
   ],
   "source": [
    "from lazypredict.Supervised import LazyClassifier \n",
    "from sklearn.datasets import load_breast_cancer \n",
    "from sklearn.model_selection import train_test_split \n",
    "\n",
    "\n",
    "data = load_breast_cancer()\n",
    "\n",
    "X, Y = data.data, data.target\n",
    "\n",
    "X_train, X_test, Y_train, Y_test = train_test_split(X, Y, test_size=.25, random_state = 123)\n",
    "\n",
    "clf = LazyClassifier(verbose=0, ignore_warnings=True, custom_metric=None)\n",
    "models, prediction = clf.fit(X_train, X_test, Y_train, Y_test)\n",
    "\n",
    "print(models)"
   ]
  }
 ],
 "metadata": {
  "kernelspec": {
   "display_name": "Python 3.9.13 ('pytorch')",
   "language": "python",
   "name": "python3"
  },
  "language_info": {
   "codemirror_mode": {
    "name": "ipython",
    "version": 3
   },
   "file_extension": ".py",
   "mimetype": "text/x-python",
   "name": "python",
   "nbconvert_exporter": "python",
   "pygments_lexer": "ipython3",
   "version": "3.9.13"
  },
  "orig_nbformat": 4,
  "vscode": {
   "interpreter": {
    "hash": "0747f93ff6db21b2db2bf35ad4858dd0825b9c21797c41b4cc32097944ab3f10"
   }
  }
 },
 "nbformat": 4,
 "nbformat_minor": 2
}
